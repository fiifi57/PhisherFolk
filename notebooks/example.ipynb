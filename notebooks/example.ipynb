{
 "cells": [
  {
   "cell_type": "markdown",
   "metadata": {},
   "source": [
    "<a target=\"_blank\" href=\"https://colab.research.google.com/github/fiifi57/PhisherFolk/blob/master/notebooks/example.ipynb\"><img src=\"https://www.tensorflow.org/images/colab_logo_32px.png\" />Run this notebook in Google Colab</a>"
   ]
  },
  {
   "cell_type": "code",
   "execution_count": null,
   "metadata": {},
   "outputs": [],
   "source": [
    "#!git clone https://github.com/fiifi57/PhisherFolk.git"
   ]
  },
  {
   "cell_type": "code",
   "execution_count": 36,
   "metadata": {},
   "outputs": [],
   "source": [
    "import sys\n",
    "sys.path.append('C:/Users/kofi_/Documents/GitHub/PhisherFolk/modules') #edit the url to point to your local repo\n",
    "from phisherfolk import phf"
   ]
  },
  {
   "cell_type": "code",
   "execution_count": 30,
   "metadata": {},
   "outputs": [],
   "source": [
    "words = phf.get_roots('confidential', 1)"
   ]
  },
  {
   "cell_type": "code",
   "execution_count": 28,
   "metadata": {},
   "outputs": [
    {
     "data": {
      "text/plain": [
       "{'arcanum',\n",
       " 'clandestine',\n",
       " 'cloak-and-dagger',\n",
       " 'closed_book',\n",
       " 'confidential',\n",
       " 'enigma',\n",
       " 'hidden',\n",
       " 'hole-and-corner',\n",
       " 'hugger-mugger',\n",
       " 'hush-hush',\n",
       " 'mysterious',\n",
       " 'mystery',\n",
       " 'mystic',\n",
       " 'mystical',\n",
       " 'occult',\n",
       " 'orphic',\n",
       " 'private',\n",
       " 'privy',\n",
       " 'secluded',\n",
       " 'secret',\n",
       " 'surreptitious',\n",
       " 'unavowed',\n",
       " 'undercover',\n",
       " 'underground'}"
      ]
     },
     "execution_count": 28,
     "metadata": {},
     "output_type": "execute_result"
    }
   ],
   "source": [
    "phf.get_roots('confidential', 2)"
   ]
  },
  {
   "cell_type": "code",
   "execution_count": 29,
   "metadata": {},
   "outputs": [
    {
     "data": {
      "text/plain": [
       "{'Orphic',\n",
       " 'arcanum',\n",
       " 'bathroom',\n",
       " 'belowground',\n",
       " 'blot_out',\n",
       " 'brain-teaser',\n",
       " 'buck_private',\n",
       " 'can',\n",
       " 'clandestine',\n",
       " 'cloak-and-dagger',\n",
       " 'cloistered',\n",
       " 'closed_book',\n",
       " 'common_soldier',\n",
       " 'conceal',\n",
       " 'concealed',\n",
       " 'confidential',\n",
       " 'conundrum',\n",
       " 'cover',\n",
       " 'cryptic',\n",
       " 'cryptical',\n",
       " 'deep',\n",
       " 'disorderly',\n",
       " 'earth-closet',\n",
       " 'eclipse',\n",
       " 'enigma',\n",
       " 'enshroud',\n",
       " 'furtive',\n",
       " 'hidden',\n",
       " 'hide',\n",
       " 'hide_out',\n",
       " 'higgledy-piggledy',\n",
       " 'hole-and-corner',\n",
       " 'hole-in-corner',\n",
       " 'hugger-mugger',\n",
       " 'hush-hush',\n",
       " 'individual',\n",
       " 'inscrutable',\n",
       " 'jakes',\n",
       " 'john',\n",
       " 'jumbled',\n",
       " 'lav',\n",
       " 'lavatory',\n",
       " 'metro',\n",
       " 'mysterious',\n",
       " 'mystery',\n",
       " 'mystery_story',\n",
       " 'mystic',\n",
       " 'mystical',\n",
       " 'mystifying',\n",
       " 'obliterate',\n",
       " 'obscure',\n",
       " 'occult',\n",
       " 'occult_arts',\n",
       " 'orphic',\n",
       " 'out_of_sight',\n",
       " 'outhouse',\n",
       " 'private',\n",
       " 'privy',\n",
       " 'reclusive',\n",
       " 'religious_mystic',\n",
       " 'resistance',\n",
       " 'riddle',\n",
       " 'seclude',\n",
       " 'secluded',\n",
       " 'secret',\n",
       " 'sequester',\n",
       " 'sequestered',\n",
       " 'sequestrate',\n",
       " 'shroud',\n",
       " 'sneak',\n",
       " 'sneaking',\n",
       " 'sneaky',\n",
       " 'stealthy',\n",
       " 'subway',\n",
       " 'subway_system',\n",
       " 'supernatural',\n",
       " 'surreptitious',\n",
       " 'toilet',\n",
       " 'topsy-turvy',\n",
       " 'tube',\n",
       " 'unavowed',\n",
       " 'undercover',\n",
       " 'underground',\n",
       " 'veil',\n",
       " 'whodunit',\n",
       " 'withdraw'}"
      ]
     },
     "execution_count": 29,
     "metadata": {},
     "output_type": "execute_result"
    }
   ],
   "source": [
    "phf.get_roots('confidential', 3)"
   ]
  },
  {
   "cell_type": "code",
   "execution_count": null,
   "metadata": {},
   "outputs": [],
   "source": []
  },
  {
   "cell_type": "code",
   "execution_count": null,
   "metadata": {},
   "outputs": [],
   "source": []
  }
 ],
 "metadata": {
  "kernelspec": {
   "display_name": "Python 3",
   "language": "python",
   "name": "python3"
  },
  "language_info": {
   "codemirror_mode": {
    "name": "ipython",
    "version": 3
   },
   "file_extension": ".py",
   "mimetype": "text/x-python",
   "name": "python",
   "nbconvert_exporter": "python",
   "pygments_lexer": "ipython3",
   "version": "3.7.3"
  }
 },
 "nbformat": 4,
 "nbformat_minor": 2
}
