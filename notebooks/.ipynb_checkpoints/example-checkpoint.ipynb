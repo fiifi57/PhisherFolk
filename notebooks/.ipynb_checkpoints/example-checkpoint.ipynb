{
 "cells": [
  {
   "cell_type": "markdown",
   "metadata": {},
   "source": [
    "## This notebook shows how to use the phisherfolk module \n",
    "\n",
    "<a target=\"_blank\" href=\"https://colab.research.google.com/github/fiifi57/PhisherFolk/blob/master/notebooks/example.ipynb\"><img src=\"https://www.tensorflow.org/images/colab_logo_32px.png\" /> Run this notebook in Google Colab</a>"
   ]
  },
  {
   "cell_type": "markdown",
   "metadata": {},
   "source": [
    "_____"
   ]
  },
  {
   "cell_type": "markdown",
   "metadata": {},
   "source": [
    "Run the clone command if you want to test this locally or at a custom location"
   ]
  },
  {
   "cell_type": "code",
   "execution_count": 39,
   "metadata": {},
   "outputs": [],
   "source": [
    "#!git clone https://github.com/fiifi57/PhisherFolk.git"
   ]
  },
  {
   "cell_type": "markdown",
   "metadata": {},
   "source": [
    "________"
   ]
  },
  {
   "cell_type": "markdown",
   "metadata": {},
   "source": [
    "Import modules"
   ]
  },
  {
   "cell_type": "code",
   "execution_count": 67,
   "metadata": {},
   "outputs": [],
   "source": [
    "import pandas as pd\n",
    "import numpy as np\n",
    "\n",
    "import sys\n",
    "sys.path.append('../modules')\n",
    "from phisherfolk import phf"
   ]
  },
  {
   "cell_type": "markdown",
   "metadata": {},
   "source": [
    "____"
   ]
  },
  {
   "cell_type": "markdown",
   "metadata": {},
   "source": [
    "For the purpose of this example notebook, we will attempt to get synonyms of the word \"confidential\". \n",
    "The \"get_roots\" function takes two arguments; the root word and the level. The root word refers to the main word for which you are looking to extract synonyms.\n",
    "The level refers to how deep you want the search to go. Level ranges from \"0\" to \"3\". The higher the level, the more words the function produces. \n",
    "However, the number of words at each level depends on the main word chosen. Level \"0\" returns the same word."
   ]
  },
  {
   "cell_type": "code",
   "execution_count": 51,
   "metadata": {},
   "outputs": [
    {
     "data": {
      "text/plain": [
       "'confidential'"
      ]
     },
     "execution_count": 51,
     "metadata": {},
     "output_type": "execute_result"
    }
   ],
   "source": [
    "# find zero synonyms for \"confidential\"\n",
    "phf.get_roots('confidential', level = 0)"
   ]
  },
  {
   "cell_type": "code",
   "execution_count": 52,
   "metadata": {},
   "outputs": [
    {
     "data": {
      "text/plain": [
       "{'confidential', 'secret'}"
      ]
     },
     "execution_count": 52,
     "metadata": {},
     "output_type": "execute_result"
    }
   ],
   "source": [
    "# find first level synonyms for \"confidential\"\n",
    "phf.get_roots('confidential', level = 1)"
   ]
  },
  {
   "cell_type": "markdown",
   "metadata": {},
   "source": [
    "______"
   ]
  },
  {
   "cell_type": "markdown",
   "metadata": {},
   "source": [
    "Next, we will try to find words that are closer in meaning to the words generated at the first level (ie. \"confidential\" and \"secret\").\n",
    "Note that you do not have to run one level before the other. You only need to select the level for your search."
   ]
  },
  {
   "cell_type": "code",
   "execution_count": 53,
   "metadata": {},
   "outputs": [
    {
     "data": {
      "text/plain": [
       "{'arcanum',\n",
       " 'clandestine',\n",
       " 'cloak-and-dagger',\n",
       " 'closed_book',\n",
       " 'confidential',\n",
       " 'enigma',\n",
       " 'hidden',\n",
       " 'hole-and-corner',\n",
       " 'hugger-mugger',\n",
       " 'hush-hush',\n",
       " 'mysterious',\n",
       " 'mystery',\n",
       " 'mystic',\n",
       " 'mystical',\n",
       " 'occult',\n",
       " 'orphic',\n",
       " 'private',\n",
       " 'privy',\n",
       " 'secluded',\n",
       " 'secret',\n",
       " 'surreptitious',\n",
       " 'unavowed',\n",
       " 'undercover',\n",
       " 'underground'}"
      ]
     },
     "execution_count": 53,
     "metadata": {},
     "output_type": "execute_result"
    }
   ],
   "source": [
    "# find second level synonyms for \"confidential\"\n",
    "phf.get_roots('confidential', level = 2)"
   ]
  },
  {
   "cell_type": "markdown",
   "metadata": {},
   "source": [
    "______________"
   ]
  },
  {
   "cell_type": "markdown",
   "metadata": {},
   "source": [
    "Next, we will attempt to generate words close to each word generated at level 2 above. We should see more diversity and perhaps a few cases of deviation becasue at this level, PhisherFolk considers all nouns, verbs, adjectives, etc. in the search."
   ]
  },
  {
   "cell_type": "code",
   "execution_count": 54,
   "metadata": {},
   "outputs": [
    {
     "data": {
      "text/plain": [
       "{'Orphic',\n",
       " 'arcanum',\n",
       " 'bathroom',\n",
       " 'belowground',\n",
       " 'blot_out',\n",
       " 'brain-teaser',\n",
       " 'buck_private',\n",
       " 'can',\n",
       " 'clandestine',\n",
       " 'cloak-and-dagger',\n",
       " 'cloistered',\n",
       " 'closed_book',\n",
       " 'common_soldier',\n",
       " 'conceal',\n",
       " 'concealed',\n",
       " 'confidential',\n",
       " 'conundrum',\n",
       " 'cover',\n",
       " 'cryptic',\n",
       " 'cryptical',\n",
       " 'deep',\n",
       " 'disorderly',\n",
       " 'earth-closet',\n",
       " 'eclipse',\n",
       " 'enigma',\n",
       " 'enshroud',\n",
       " 'furtive',\n",
       " 'hidden',\n",
       " 'hide',\n",
       " 'hide_out',\n",
       " 'higgledy-piggledy',\n",
       " 'hole-and-corner',\n",
       " 'hole-in-corner',\n",
       " 'hugger-mugger',\n",
       " 'hush-hush',\n",
       " 'individual',\n",
       " 'inscrutable',\n",
       " 'jakes',\n",
       " 'john',\n",
       " 'jumbled',\n",
       " 'lav',\n",
       " 'lavatory',\n",
       " 'metro',\n",
       " 'mysterious',\n",
       " 'mystery',\n",
       " 'mystery_story',\n",
       " 'mystic',\n",
       " 'mystical',\n",
       " 'mystifying',\n",
       " 'obliterate',\n",
       " 'obscure',\n",
       " 'occult',\n",
       " 'occult_arts',\n",
       " 'orphic',\n",
       " 'out_of_sight',\n",
       " 'outhouse',\n",
       " 'private',\n",
       " 'privy',\n",
       " 'reclusive',\n",
       " 'religious_mystic',\n",
       " 'resistance',\n",
       " 'riddle',\n",
       " 'seclude',\n",
       " 'secluded',\n",
       " 'secret',\n",
       " 'sequester',\n",
       " 'sequestered',\n",
       " 'sequestrate',\n",
       " 'shroud',\n",
       " 'sneak',\n",
       " 'sneaking',\n",
       " 'sneaky',\n",
       " 'stealthy',\n",
       " 'subway',\n",
       " 'subway_system',\n",
       " 'supernatural',\n",
       " 'surreptitious',\n",
       " 'toilet',\n",
       " 'topsy-turvy',\n",
       " 'tube',\n",
       " 'unavowed',\n",
       " 'undercover',\n",
       " 'underground',\n",
       " 'veil',\n",
       " 'whodunit',\n",
       " 'withdraw'}"
      ]
     },
     "execution_count": 54,
     "metadata": {},
     "output_type": "execute_result"
    }
   ],
   "source": [
    "# find third level synonyms for \"confidential\"\n",
    "phf.get_roots('confidential', level = 3)"
   ]
  },
  {
   "cell_type": "markdown",
   "metadata": {},
   "source": [
    "At the third level, it is important to go through the output manually to ensure that there are no deviations from the original meaning. \n",
    "For example, words like \"toilet\", \"lavatory\", \"john\", and \"jake\" do not necessarily mean \"confidential\" although we can argue that there are associated with privacy. "
   ]
  },
  {
   "cell_type": "markdown",
   "metadata": {},
   "source": [
    "_______________________"
   ]
  },
  {
   "cell_type": "markdown",
   "metadata": {},
   "source": [
    "You can save your list to a text file using the code below"
   ]
  },
  {
   "cell_type": "code",
   "execution_count": 85,
   "metadata": {},
   "outputs": [],
   "source": [
    "# find third level synonyms for \"confidential\"\n",
    "generated_list = phf.get_roots('confidential', level = 3)\n",
    "\n",
    "# create and save list as .txt file\n",
    "with open('../output/confidential.txt', 'w') as f:\n",
    "    for item in generated_list:\n",
    "        f.write(item + \",\" + \"\\n\")"
   ]
  },
  {
   "cell_type": "markdown",
   "metadata": {},
   "source": [
    "_________"
   ]
  },
  {
   "cell_type": "markdown",
   "metadata": {},
   "source": [
    "## End of Example"
   ]
  },
  {
   "cell_type": "code",
   "execution_count": null,
   "metadata": {},
   "outputs": [],
   "source": []
  },
  {
   "cell_type": "code",
   "execution_count": null,
   "metadata": {},
   "outputs": [],
   "source": []
  },
  {
   "cell_type": "code",
   "execution_count": null,
   "metadata": {},
   "outputs": [],
   "source": []
  },
  {
   "cell_type": "code",
   "execution_count": null,
   "metadata": {},
   "outputs": [],
   "source": []
  },
  {
   "cell_type": "code",
   "execution_count": null,
   "metadata": {},
   "outputs": [],
   "source": []
  },
  {
   "cell_type": "code",
   "execution_count": null,
   "metadata": {},
   "outputs": [],
   "source": []
  }
 ],
 "metadata": {
  "kernelspec": {
   "display_name": "Python 3",
   "language": "python",
   "name": "python3"
  },
  "language_info": {
   "codemirror_mode": {
    "name": "ipython",
    "version": 3
   },
   "file_extension": ".py",
   "mimetype": "text/x-python",
   "name": "python",
   "nbconvert_exporter": "python",
   "pygments_lexer": "ipython3",
   "version": "3.7.3"
  }
 },
 "nbformat": 4,
 "nbformat_minor": 2
}
